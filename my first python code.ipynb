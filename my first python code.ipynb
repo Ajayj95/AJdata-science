{
 "cells": [
  {
   "cell_type": "code",
   "execution_count": 1,
   "id": "5ee84d0a",
   "metadata": {},
   "outputs": [
    {
     "name": "stdout",
     "output_type": "stream",
     "text": [
      "Hello World\n"
     ]
    }
   ],
   "source": [
    "print(\"Hello World\")"
   ]
  },
  {
   "cell_type": "code",
   "execution_count": 2,
   "id": "92220075",
   "metadata": {},
   "outputs": [
    {
     "name": "stdout",
     "output_type": "stream",
     "text": [
      "Im the best\n"
     ]
    }
   ],
   "source": [
    "print(\"Im the best\")"
   ]
  },
  {
   "cell_type": "code",
   "execution_count": 4,
   "id": "308a5635",
   "metadata": {},
   "outputs": [
    {
     "name": "stdout",
     "output_type": "stream",
     "text": [
      "how are you doing\n"
     ]
    }
   ],
   "source": [
    "hello= \"how are you doing\"\n",
    "print(hello)"
   ]
  },
  {
   "cell_type": "code",
   "execution_count": 5,
   "id": "9522cd01",
   "metadata": {},
   "outputs": [
    {
     "name": "stdout",
     "output_type": "stream",
     "text": [
      "Im the best and good\n"
     ]
    }
   ],
   "source": [
    "get= \"Im the best and good\"\n",
    "print(get)"
   ]
  },
  {
   "cell_type": "code",
   "execution_count": 6,
   "id": "4ac78987",
   "metadata": {},
   "outputs": [
    {
     "name": "stdout",
     "output_type": "stream",
     "text": [
      "Ajay J\n"
     ]
    }
   ],
   "source": [
    "print(\"Ajay J\")"
   ]
  },
  {
   "cell_type": "code",
   "execution_count": 7,
   "id": "88b7668a",
   "metadata": {},
   "outputs": [
    {
     "name": "stdout",
     "output_type": "stream",
     "text": [
      "iam a learner\n"
     ]
    }
   ],
   "source": [
    "Ajay= \"iam a learner\"\n",
    "print(Ajay)"
   ]
  },
  {
   "cell_type": "code",
   "execution_count": 8,
   "id": "26f76eed",
   "metadata": {},
   "outputs": [
    {
     "name": "stdout",
     "output_type": "stream",
     "text": [
      "35\n"
     ]
    }
   ],
   "source": [
    "x=12\n",
    "y=23\n",
    "print(x+y)"
   ]
  },
  {
   "cell_type": "code",
   "execution_count": 11,
   "id": "8720197b",
   "metadata": {},
   "outputs": [
    {
     "name": "stdout",
     "output_type": "stream",
     "text": [
      "15\n"
     ]
    }
   ],
   "source": [
    "x=25\n",
    "y=10\n",
    "print(x-y)"
   ]
  },
  {
   "cell_type": "code",
   "execution_count": null,
   "id": "de0859a6",
   "metadata": {},
   "outputs": [],
   "source": []
  }
 ],
 "metadata": {
  "kernelspec": {
   "display_name": "Python 3 (ipykernel)",
   "language": "python",
   "name": "python3"
  },
  "language_info": {
   "codemirror_mode": {
    "name": "ipython",
    "version": 3
   },
   "file_extension": ".py",
   "mimetype": "text/x-python",
   "name": "python",
   "nbconvert_exporter": "python",
   "pygments_lexer": "ipython3",
   "version": "3.10.9"
  }
 },
 "nbformat": 4,
 "nbformat_minor": 5
}
